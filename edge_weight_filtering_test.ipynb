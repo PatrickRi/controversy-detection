{
 "cells": [
  {
   "cell_type": "code",
   "execution_count": 1,
   "metadata": {
    "collapsed": true,
    "pycharm": {
     "is_executing": false
    }
   },
   "outputs": [],
   "source": [
    "import networkx as nx\n",
    "\n",
    "\n"
   ]
  },
  {
   "cell_type": "code",
   "execution_count": 6,
   "outputs": [
    {
     "name": "stdout",
     "text": [
      "(1, 2)\n",
      "1\n",
      "(1, 4)\n",
      "1\n",
      "(2, 3)\n",
      "2\n",
      "(3, 4)\n",
      "3\n",
      "remove edge (1, 2)\n",
      "remove edge (1, 4)\n",
      "(2, 3)\n",
      "2\n",
      "(3, 4)\n",
      "3\n"
     ],
     "output_type": "stream"
    }
   ],
   "source": [
    "def print_edges(g):\n",
    "    for edge in g.edges:\n",
    "        print(edge)\n",
    "        print(g[edge[0]][edge[1]]['weight'])\n",
    "\n",
    "\n",
    "g = nx.Graph()\n",
    "# graph[comm_ident][parent_ci]['weight'] = graph[comm_ident][parent_ci]['weight'] + 1\n",
    "# graph.add_edge(comm_ident, parent_ci, weight=1)\n",
    "g.add_edge(1, 2, weight=1)\n",
    "g.add_edge(2, 3, weight=2)\n",
    "g.add_edge(3, 4, weight=3)\n",
    "g.add_edge(4, 1, weight=1)\n",
    "print_edges(g)\n",
    "to_remove=[]\n",
    "for edge in g.edges:\n",
    "    if g[edge[0]][edge[1]]['weight'] < 2:\n",
    "        print(\"remove edge\", edge)\n",
    "        to_remove.append(edge)\n",
    "for edge in to_remove:\n",
    "    g.remove_edge(edge[0], edge[1])\n",
    "print_edges(g)\n"
   ],
   "metadata": {
    "collapsed": false,
    "pycharm": {
     "name": "#%%\n",
     "is_executing": false
    }
   }
  }
 ],
 "metadata": {
  "kernelspec": {
   "display_name": "Python 3",
   "language": "python",
   "name": "python3"
  },
  "language_info": {
   "codemirror_mode": {
    "name": "ipython",
    "version": 2
   },
   "file_extension": ".py",
   "mimetype": "text/x-python",
   "name": "python",
   "nbconvert_exporter": "python",
   "pygments_lexer": "ipython2",
   "version": "2.7.6"
  },
  "pycharm": {
   "stem_cell": {
    "cell_type": "raw",
    "source": [],
    "metadata": {
     "collapsed": false
    }
   }
  }
 },
 "nbformat": 4,
 "nbformat_minor": 0
}